{
 "cells": [
  {
   "cell_type": "markdown",
   "id": "7803e3f0",
   "metadata": {},
   "source": [
    "## Movielens Project\n",
    "\n",
    "The goal of this MovieLens Project is to create a movie recommendation model able to predict movie ratings with a root mean squared error (RMSE) of less than 0.86490 compared to actual movie ratings. Data is sourced from the MovieLens dataset and divided into two datasets, each containing the variables userId, movieId, rating, timestamp, title, and genres:\n",
    "\n",
    "•\ttrain, with approximately 9 million observations.\n",
    "\n",
    "•\tvalidation, with about 1 million observations.\n",
    "\n",
    "\n",
    " "
   ]
  },
  {
   "cell_type": "markdown",
   "id": "859e7ed2",
   "metadata": {},
   "source": [
    "## Download the dataset and split"
   ]
  },
  {
   "cell_type": "code",
   "execution_count": 1,
   "id": "569ff233",
   "metadata": {},
   "outputs": [
    {
     "name": "stdout",
     "output_type": "stream",
     "text": [
      "Setup complete.\n"
     ]
    }
   ],
   "source": [
    "import pandas as pd\n",
    "import numpy as np\n",
    "from sklearn.model_selection import train_test_split , cross_val_score\n",
    "import requests\n",
    "from io import BytesIO\n",
    "from zipfile import ZipFile\n",
    "from sklearn.linear_model import LinearRegression\n",
    "from sklearn.metrics import mean_absolute_error, mean_squared_error, r2_score\n",
    "import re\n",
    "import datetime\n",
    "from sklearn.preprocessing import StandardScaler\n",
    "import matplotlib.pyplot as plt\n",
    "import seaborn as sns\n",
    "\n",
    "\n",
    "# Download movielens \n",
    "\n",
    "response = requests.get(\"https://files.grouplens.org/datasets/movielens/ml-10m.zip\")\n",
    "zip_file = ZipFile(BytesIO(response.content))\n",
    "zip_file.extractall('data/')  \n",
    "\n",
    "# Read and process ratings \n",
    "ratings = pd.read_csv('data/ml-10M100K/ratings.dat', delimiter='::', engine='python',\n",
    "                      names=['userId', 'movieId', 'rating', 'timestamp'], header=None)\n",
    "\n",
    "# Read and process movies \n",
    "movies = pd.read_csv('data/ml-10M100K/movies.dat', delimiter='::', engine='python',\n",
    "                     names=['movieId', 'title', 'genres'], header=None)\n",
    "\n",
    "# Merge ratings and movies \n",
    "movielens = pd.merge(ratings, movies, on='movieId')\n",
    "\n",
    "# Create a validation set, which is 10% MovieLens dataset\n",
    "train, validation = train_test_split(movielens, test_size=0.1, random_state=1)\n",
    "\n",
    "# Ensure userId and movieId in the validation set are also in the train set\n",
    "validation = validation[validation['movieId'].isin(train['movieId']) & validation['userId'].isin(train['userId'])]\n",
    "\n",
    "# Add back any removed rows into the training set\n",
    "removed = validation[~(validation['movieId'].isin(train['movieId']) & validation['userId'].isin(train['userId']))]\n",
    "train = pd.concat([train, removed])\n",
    "\n",
    "# Clean up \n",
    "try:\n",
    "    zip_file.close()\n",
    "except:\n",
    "    pass\n",
    "\n",
    "print(\"Setup complete.\")\n"
   ]
  },
  {
   "cell_type": "markdown",
   "id": "75b68d44",
   "metadata": {},
   "source": [
    "### Step 1:Data cleaning and preprocessing"
   ]
  },
  {
   "cell_type": "code",
   "execution_count": 2,
   "id": "ddc06512",
   "metadata": {},
   "outputs": [
    {
     "data": {
      "text/html": [
       "<div>\n",
       "<style scoped>\n",
       "    .dataframe tbody tr th:only-of-type {\n",
       "        vertical-align: middle;\n",
       "    }\n",
       "\n",
       "    .dataframe tbody tr th {\n",
       "        vertical-align: top;\n",
       "    }\n",
       "\n",
       "    .dataframe thead th {\n",
       "        text-align: right;\n",
       "    }\n",
       "</style>\n",
       "<table border=\"1\" class=\"dataframe\">\n",
       "  <thead>\n",
       "    <tr style=\"text-align: right;\">\n",
       "      <th></th>\n",
       "      <th>userId</th>\n",
       "      <th>movieId</th>\n",
       "      <th>rating</th>\n",
       "      <th>timestamp</th>\n",
       "      <th>title</th>\n",
       "      <th>genres</th>\n",
       "    </tr>\n",
       "  </thead>\n",
       "  <tbody>\n",
       "    <tr>\n",
       "      <th>0</th>\n",
       "      <td>1</td>\n",
       "      <td>122</td>\n",
       "      <td>5.0</td>\n",
       "      <td>838985046</td>\n",
       "      <td>Boomerang (1992)</td>\n",
       "      <td>Comedy|Romance</td>\n",
       "    </tr>\n",
       "    <tr>\n",
       "      <th>1</th>\n",
       "      <td>139</td>\n",
       "      <td>122</td>\n",
       "      <td>3.0</td>\n",
       "      <td>974302621</td>\n",
       "      <td>Boomerang (1992)</td>\n",
       "      <td>Comedy|Romance</td>\n",
       "    </tr>\n",
       "    <tr>\n",
       "      <th>2</th>\n",
       "      <td>149</td>\n",
       "      <td>122</td>\n",
       "      <td>2.5</td>\n",
       "      <td>1112342322</td>\n",
       "      <td>Boomerang (1992)</td>\n",
       "      <td>Comedy|Romance</td>\n",
       "    </tr>\n",
       "    <tr>\n",
       "      <th>3</th>\n",
       "      <td>182</td>\n",
       "      <td>122</td>\n",
       "      <td>3.0</td>\n",
       "      <td>943458784</td>\n",
       "      <td>Boomerang (1992)</td>\n",
       "      <td>Comedy|Romance</td>\n",
       "    </tr>\n",
       "    <tr>\n",
       "      <th>4</th>\n",
       "      <td>215</td>\n",
       "      <td>122</td>\n",
       "      <td>4.5</td>\n",
       "      <td>1102493547</td>\n",
       "      <td>Boomerang (1992)</td>\n",
       "      <td>Comedy|Romance</td>\n",
       "    </tr>\n",
       "  </tbody>\n",
       "</table>\n",
       "</div>"
      ],
      "text/plain": [
       "   userId  movieId  rating   timestamp             title          genres\n",
       "0       1      122     5.0   838985046  Boomerang (1992)  Comedy|Romance\n",
       "1     139      122     3.0   974302621  Boomerang (1992)  Comedy|Romance\n",
       "2     149      122     2.5  1112342322  Boomerang (1992)  Comedy|Romance\n",
       "3     182      122     3.0   943458784  Boomerang (1992)  Comedy|Romance\n",
       "4     215      122     4.5  1102493547  Boomerang (1992)  Comedy|Romance"
      ]
     },
     "execution_count": 2,
     "metadata": {},
     "output_type": "execute_result"
    }
   ],
   "source": [
    "movielens.head()"
   ]
  },
  {
   "cell_type": "code",
   "execution_count": 3,
   "id": "5eee3d98",
   "metadata": {},
   "outputs": [
    {
     "data": {
      "text/plain": [
       "userId       0\n",
       "movieId      0\n",
       "rating       0\n",
       "timestamp    0\n",
       "title        0\n",
       "genres       0\n",
       "dtype: int64"
      ]
     },
     "execution_count": 3,
     "metadata": {},
     "output_type": "execute_result"
    }
   ],
   "source": [
    "# check if there are any Null values\n",
    "movielens.isnull().sum().sort_values(ascending=False)"
   ]
  },
  {
   "cell_type": "code",
   "execution_count": 4,
   "id": "af494274",
   "metadata": {},
   "outputs": [
    {
     "data": {
      "text/plain": [
       "0"
      ]
     },
     "execution_count": 4,
     "metadata": {},
     "output_type": "execute_result"
    }
   ],
   "source": [
    "# check duplicated values\n",
    "movielens.duplicated().sum()"
   ]
  },
  {
   "cell_type": "code",
   "execution_count": 5,
   "id": "4822484b",
   "metadata": {},
   "outputs": [
    {
     "data": {
      "text/html": [
       "<div>\n",
       "<style scoped>\n",
       "    .dataframe tbody tr th:only-of-type {\n",
       "        vertical-align: middle;\n",
       "    }\n",
       "\n",
       "    .dataframe tbody tr th {\n",
       "        vertical-align: top;\n",
       "    }\n",
       "\n",
       "    .dataframe thead th {\n",
       "        text-align: right;\n",
       "    }\n",
       "</style>\n",
       "<table border=\"1\" class=\"dataframe\">\n",
       "  <thead>\n",
       "    <tr style=\"text-align: right;\">\n",
       "      <th></th>\n",
       "      <th>userId</th>\n",
       "      <th>movieId</th>\n",
       "      <th>rating</th>\n",
       "      <th>timestamp</th>\n",
       "      <th>title</th>\n",
       "      <th>genres</th>\n",
       "    </tr>\n",
       "  </thead>\n",
       "  <tbody>\n",
       "    <tr>\n",
       "      <th>10000049</th>\n",
       "      <td>67385</td>\n",
       "      <td>63481</td>\n",
       "      <td>3.5</td>\n",
       "      <td>1227499991</td>\n",
       "      <td>Soul Men (2008)</td>\n",
       "      <td>Comedy|Musical</td>\n",
       "    </tr>\n",
       "    <tr>\n",
       "      <th>10000050</th>\n",
       "      <td>67542</td>\n",
       "      <td>63481</td>\n",
       "      <td>3.0</td>\n",
       "      <td>1227739303</td>\n",
       "      <td>Soul Men (2008)</td>\n",
       "      <td>Comedy|Musical</td>\n",
       "    </tr>\n",
       "    <tr>\n",
       "      <th>10000051</th>\n",
       "      <td>67385</td>\n",
       "      <td>64652</td>\n",
       "      <td>2.0</td>\n",
       "      <td>1230900023</td>\n",
       "      <td>Delgo (2008)</td>\n",
       "      <td>Adventure|Animation|Comedy|Fantasy|Romance</td>\n",
       "    </tr>\n",
       "    <tr>\n",
       "      <th>10000052</th>\n",
       "      <td>69135</td>\n",
       "      <td>64427</td>\n",
       "      <td>4.0</td>\n",
       "      <td>1229529033</td>\n",
       "      <td>Much Ado About Something (2001)</td>\n",
       "      <td>Documentary</td>\n",
       "    </tr>\n",
       "    <tr>\n",
       "      <th>10000053</th>\n",
       "      <td>70816</td>\n",
       "      <td>63662</td>\n",
       "      <td>4.0</td>\n",
       "      <td>1227531270</td>\n",
       "      <td>Where A Good Man Goes (Joi gin a long) (1999)</td>\n",
       "      <td>Action|Drama|Thriller</td>\n",
       "    </tr>\n",
       "  </tbody>\n",
       "</table>\n",
       "</div>"
      ],
      "text/plain": [
       "          userId  movieId  rating   timestamp  \\\n",
       "10000049   67385    63481     3.5  1227499991   \n",
       "10000050   67542    63481     3.0  1227739303   \n",
       "10000051   67385    64652     2.0  1230900023   \n",
       "10000052   69135    64427     4.0  1229529033   \n",
       "10000053   70816    63662     4.0  1227531270   \n",
       "\n",
       "                                                  title  \\\n",
       "10000049                                Soul Men (2008)   \n",
       "10000050                                Soul Men (2008)   \n",
       "10000051                                   Delgo (2008)   \n",
       "10000052                Much Ado About Something (2001)   \n",
       "10000053  Where A Good Man Goes (Joi gin a long) (1999)   \n",
       "\n",
       "                                              genres  \n",
       "10000049                              Comedy|Musical  \n",
       "10000050                              Comedy|Musical  \n",
       "10000051  Adventure|Animation|Comedy|Fantasy|Romance  \n",
       "10000052                                 Documentary  \n",
       "10000053                       Action|Drama|Thriller  "
      ]
     },
     "execution_count": 5,
     "metadata": {},
     "output_type": "execute_result"
    }
   ],
   "source": [
    "#check the end of the dataframe for errors or missing rows poor indexing.\n",
    "movielens.tail()"
   ]
  },
  {
   "cell_type": "code",
   "execution_count": 6,
   "id": "14ac8361",
   "metadata": {},
   "outputs": [
    {
     "name": "stdout",
     "output_type": "stream",
     "text": [
      "<class 'pandas.core.frame.DataFrame'>\n",
      "RangeIndex: 10000054 entries, 0 to 10000053\n",
      "Data columns (total 6 columns):\n",
      " #   Column     Dtype  \n",
      "---  ------     -----  \n",
      " 0   userId     int64  \n",
      " 1   movieId    int64  \n",
      " 2   rating     float64\n",
      " 3   timestamp  int64  \n",
      " 4   title      object \n",
      " 5   genres     object \n",
      "dtypes: float64(1), int64(3), object(2)\n",
      "memory usage: 457.8+ MB\n"
     ]
    }
   ],
   "source": [
    "#Check the dataset dimensions\n",
    "movielens.info()"
   ]
  },
  {
   "cell_type": "markdown",
   "id": "bd0b81a2",
   "metadata": {},
   "source": [
    "# Section 1: Data Exploration"
   ]
  },
  {
   "cell_type": "markdown",
   "id": "cdc41c3b",
   "metadata": {},
   "source": [
    "1.\tHow many rows and columns are there in the MovieLens dataset?"
   ]
  },
  {
   "cell_type": "code",
   "execution_count": 7,
   "id": "4d72a387",
   "metadata": {},
   "outputs": [
    {
     "name": "stdout",
     "output_type": "stream",
     "text": [
      "Number of rows: 10000054\n",
      "Number of columns: 6\n"
     ]
    }
   ],
   "source": [
    "# the number of columns\n",
    "num_columns = movielens.shape[1]\n",
    "\n",
    "# the number of rows\n",
    "num_rows = movielens.shape[0]\n",
    "\n",
    "print(f\"Number of rows: {num_rows}\")\n",
    "print(f\"Number of columns: {num_columns}\")"
   ]
  },
  {
   "cell_type": "markdown",
   "id": "a2dcdaa5",
   "metadata": {},
   "source": [
    "2.\tHow many zeros were given as ratings in the movielens dataset?"
   ]
  },
  {
   "cell_type": "code",
   "execution_count": 8,
   "id": "bc3ddd1f",
   "metadata": {},
   "outputs": [
    {
     "name": "stdout",
     "output_type": "stream",
     "text": [
      "The number of movies with a zero rating is :94988\n"
     ]
    }
   ],
   "source": [
    "#rates column changed from float to int and rounded up the numbers for better \n",
    "movielens['rounded_rates'] = movielens['rating'].round().astype(int)\n",
    "\n",
    "#Count rows where rating is equal to 0\n",
    "No_zero_ratings = len(movielens[movielens[\"rounded_rates\"]==0])\n",
    "\n",
    "print(f\"The number of movies with a zero rating is :{No_zero_ratings}\")"
   ]
  },
  {
   "cell_type": "markdown",
   "id": "3a6edeb9",
   "metadata": {},
   "source": [
    "3.\tHow many threes were given as ratings in the movielens dataset?"
   ]
  },
  {
   "cell_type": "code",
   "execution_count": 9,
   "id": "118c6134",
   "metadata": {},
   "outputs": [
    {
     "name": "stdout",
     "output_type": "stream",
     "text": [
      "The number of movies with a zero rating is :2356676\n"
     ]
    }
   ],
   "source": [
    "#Change rates column from float to int and round up\n",
    "movielens['rounded_rates'] = movielens['rating'].round().astype(int)\n",
    "\n",
    "#Count rows where rating is equal to 3\n",
    "No_3s_ratings = len(movielens[movielens[\"rounded_rates\"]==3])\n",
    "\n",
    "print(f\"The number of movies with a zero rating is :{No_3s_ratings}\")"
   ]
  },
  {
   "cell_type": "markdown",
   "id": "96062771",
   "metadata": {},
   "source": [
    "4.\tHow many different movies are in the movielens dataset?"
   ]
  },
  {
   "cell_type": "code",
   "execution_count": 10,
   "id": "c4c45270",
   "metadata": {},
   "outputs": [
    {
     "data": {
      "text/plain": [
       "10676"
      ]
     },
     "execution_count": 10,
     "metadata": {},
     "output_type": "execute_result"
    }
   ],
   "source": [
    "movielens['title'].nunique()"
   ]
  },
  {
   "cell_type": "markdown",
   "id": "9c566cec",
   "metadata": {},
   "source": [
    "5.\tHow many different users are in the movielens dataset? (2 marks)"
   ]
  },
  {
   "cell_type": "code",
   "execution_count": 11,
   "id": "bf356ec9",
   "metadata": {},
   "outputs": [
    {
     "data": {
      "text/plain": [
       "69878"
      ]
     },
     "execution_count": 11,
     "metadata": {},
     "output_type": "execute_result"
    }
   ],
   "source": [
    "movielens['userId'].nunique()"
   ]
  },
  {
   "cell_type": "markdown",
   "id": "1492dbc6",
   "metadata": {},
   "source": [
    "6.\tWhich movie has the greatest number of ratings?"
   ]
  },
  {
   "cell_type": "code",
   "execution_count": 12,
   "id": "c9162459",
   "metadata": {},
   "outputs": [
    {
     "name": "stdout",
     "output_type": "stream",
     "text": [
      "The movies with the most ratings is:\n"
     ]
    },
    {
     "data": {
      "text/html": [
       "<div>\n",
       "<style scoped>\n",
       "    .dataframe tbody tr th:only-of-type {\n",
       "        vertical-align: middle;\n",
       "    }\n",
       "\n",
       "    .dataframe tbody tr th {\n",
       "        vertical-align: top;\n",
       "    }\n",
       "\n",
       "    .dataframe thead th {\n",
       "        text-align: right;\n",
       "    }\n",
       "</style>\n",
       "<table border=\"1\" class=\"dataframe\">\n",
       "  <thead>\n",
       "    <tr style=\"text-align: right;\">\n",
       "      <th></th>\n",
       "      <th>movieId</th>\n",
       "      <th>rating</th>\n",
       "      <th>title</th>\n",
       "      <th>genres</th>\n",
       "    </tr>\n",
       "  </thead>\n",
       "  <tbody>\n",
       "    <tr>\n",
       "      <th>293</th>\n",
       "      <td>296</td>\n",
       "      <td>144944.5</td>\n",
       "      <td>Pulp Fiction (1994)</td>\n",
       "      <td>Comedy|Crime|Drama</td>\n",
       "    </tr>\n",
       "  </tbody>\n",
       "</table>\n",
       "</div>"
      ],
      "text/plain": [
       "     movieId    rating                title              genres\n",
       "293      296  144944.5  Pulp Fiction (1994)  Comedy|Crime|Drama"
      ]
     },
     "execution_count": 12,
     "metadata": {},
     "output_type": "execute_result"
    }
   ],
   "source": [
    "# Total ratings for each movie\n",
    "movie_ratings=movielens.groupby('movieId')['rating'].sum().reset_index()\n",
    "\n",
    "\n",
    "# To get the movie titles and genres the ratings was mearged with original dataset\n",
    "ratings = movie_ratings.merge(movielens[['movieId', 'title', 'genres']].drop_duplicates(), on='movieId')\n",
    "\n",
    "#Movie with high rating\n",
    "highest_rating= ratings['rating'].max()\n",
    "\n",
    "#Filter movie with the highest ratings \n",
    "highest_movie_rating=ratings[ratings['rating'] == highest_rating]\n",
    "\n",
    "\n",
    "# Display the movies with the highest rating\n",
    "print(f\"The movies with the most ratings is:\")\n",
    "highest_movie_rating\n"
   ]
  },
  {
   "cell_type": "markdown",
   "id": "f7661d41",
   "metadata": {},
   "source": [
    "# Section 2"
   ]
  },
  {
   "cell_type": "code",
   "execution_count": 13,
   "id": "dfb162be",
   "metadata": {},
   "outputs": [
    {
     "data": {
      "text/html": [
       "<div>\n",
       "<style scoped>\n",
       "    .dataframe tbody tr th:only-of-type {\n",
       "        vertical-align: middle;\n",
       "    }\n",
       "\n",
       "    .dataframe tbody tr th {\n",
       "        vertical-align: top;\n",
       "    }\n",
       "\n",
       "    .dataframe thead th {\n",
       "        text-align: right;\n",
       "    }\n",
       "</style>\n",
       "<table border=\"1\" class=\"dataframe\">\n",
       "  <thead>\n",
       "    <tr style=\"text-align: right;\">\n",
       "      <th></th>\n",
       "      <th>userId</th>\n",
       "      <th>movieId</th>\n",
       "      <th>rating</th>\n",
       "      <th>timestamp</th>\n",
       "      <th>rounded_rates</th>\n",
       "    </tr>\n",
       "  </thead>\n",
       "  <tbody>\n",
       "    <tr>\n",
       "      <th>count</th>\n",
       "      <td>1.000005e+07</td>\n",
       "      <td>1.000005e+07</td>\n",
       "      <td>1.000005e+07</td>\n",
       "      <td>1.000005e+07</td>\n",
       "      <td>1.000005e+07</td>\n",
       "    </tr>\n",
       "    <tr>\n",
       "      <th>mean</th>\n",
       "      <td>3.586986e+04</td>\n",
       "      <td>4.120291e+03</td>\n",
       "      <td>3.512422e+00</td>\n",
       "      <td>1.032606e+09</td>\n",
       "      <td>3.509815e+00</td>\n",
       "    </tr>\n",
       "    <tr>\n",
       "      <th>std</th>\n",
       "      <td>2.058534e+04</td>\n",
       "      <td>8.938402e+03</td>\n",
       "      <td>1.060418e+00</td>\n",
       "      <td>1.159640e+08</td>\n",
       "      <td>1.076618e+00</td>\n",
       "    </tr>\n",
       "    <tr>\n",
       "      <th>min</th>\n",
       "      <td>1.000000e+00</td>\n",
       "      <td>1.000000e+00</td>\n",
       "      <td>5.000000e-01</td>\n",
       "      <td>7.896520e+08</td>\n",
       "      <td>0.000000e+00</td>\n",
       "    </tr>\n",
       "    <tr>\n",
       "      <th>25%</th>\n",
       "      <td>1.812300e+04</td>\n",
       "      <td>6.480000e+02</td>\n",
       "      <td>3.000000e+00</td>\n",
       "      <td>9.467659e+08</td>\n",
       "      <td>3.000000e+00</td>\n",
       "    </tr>\n",
       "    <tr>\n",
       "      <th>50%</th>\n",
       "      <td>3.574050e+04</td>\n",
       "      <td>1.834000e+03</td>\n",
       "      <td>4.000000e+00</td>\n",
       "      <td>1.035476e+09</td>\n",
       "      <td>4.000000e+00</td>\n",
       "    </tr>\n",
       "    <tr>\n",
       "      <th>75%</th>\n",
       "      <td>5.360800e+04</td>\n",
       "      <td>3.624000e+03</td>\n",
       "      <td>4.000000e+00</td>\n",
       "      <td>1.126749e+09</td>\n",
       "      <td>4.000000e+00</td>\n",
       "    </tr>\n",
       "    <tr>\n",
       "      <th>max</th>\n",
       "      <td>7.156700e+04</td>\n",
       "      <td>6.513300e+04</td>\n",
       "      <td>5.000000e+00</td>\n",
       "      <td>1.231132e+09</td>\n",
       "      <td>5.000000e+00</td>\n",
       "    </tr>\n",
       "  </tbody>\n",
       "</table>\n",
       "</div>"
      ],
      "text/plain": [
       "             userId       movieId        rating     timestamp  rounded_rates\n",
       "count  1.000005e+07  1.000005e+07  1.000005e+07  1.000005e+07   1.000005e+07\n",
       "mean   3.586986e+04  4.120291e+03  3.512422e+00  1.032606e+09   3.509815e+00\n",
       "std    2.058534e+04  8.938402e+03  1.060418e+00  1.159640e+08   1.076618e+00\n",
       "min    1.000000e+00  1.000000e+00  5.000000e-01  7.896520e+08   0.000000e+00\n",
       "25%    1.812300e+04  6.480000e+02  3.000000e+00  9.467659e+08   3.000000e+00\n",
       "50%    3.574050e+04  1.834000e+03  4.000000e+00  1.035476e+09   4.000000e+00\n",
       "75%    5.360800e+04  3.624000e+03  4.000000e+00  1.126749e+09   4.000000e+00\n",
       "max    7.156700e+04  6.513300e+04  5.000000e+00  1.231132e+09   5.000000e+00"
      ]
     },
     "execution_count": 13,
     "metadata": {},
     "output_type": "execute_result"
    }
   ],
   "source": [
    "#Summary Statistics \n",
    "movielens.describe()"
   ]
  },
  {
   "cell_type": "markdown",
   "id": "e9278689",
   "metadata": {},
   "source": [
    "### Step 2:Data visualization & Interpretation"
   ]
  },
  {
   "cell_type": "code",
   "execution_count": 14,
   "id": "03630fcc",
   "metadata": {},
   "outputs": [
    {
     "data": {
      "text/html": [
       "<div>\n",
       "<style scoped>\n",
       "    .dataframe tbody tr th:only-of-type {\n",
       "        vertical-align: middle;\n",
       "    }\n",
       "\n",
       "    .dataframe tbody tr th {\n",
       "        vertical-align: top;\n",
       "    }\n",
       "\n",
       "    .dataframe thead th {\n",
       "        text-align: right;\n",
       "    }\n",
       "</style>\n",
       "<table border=\"1\" class=\"dataframe\">\n",
       "  <thead>\n",
       "    <tr style=\"text-align: right;\">\n",
       "      <th></th>\n",
       "      <th>userId</th>\n",
       "      <th>movieId</th>\n",
       "      <th>rating</th>\n",
       "      <th>timestamp</th>\n",
       "      <th>title</th>\n",
       "      <th>genres</th>\n",
       "      <th>rounded_rates</th>\n",
       "    </tr>\n",
       "  </thead>\n",
       "  <tbody>\n",
       "    <tr>\n",
       "      <th>0</th>\n",
       "      <td>1</td>\n",
       "      <td>122</td>\n",
       "      <td>5.0</td>\n",
       "      <td>838985046</td>\n",
       "      <td>Boomerang (1992)</td>\n",
       "      <td>Comedy</td>\n",
       "      <td>5</td>\n",
       "    </tr>\n",
       "    <tr>\n",
       "      <th>0</th>\n",
       "      <td>1</td>\n",
       "      <td>122</td>\n",
       "      <td>5.0</td>\n",
       "      <td>838985046</td>\n",
       "      <td>Boomerang (1992)</td>\n",
       "      <td>Romance</td>\n",
       "      <td>5</td>\n",
       "    </tr>\n",
       "    <tr>\n",
       "      <th>1</th>\n",
       "      <td>139</td>\n",
       "      <td>122</td>\n",
       "      <td>3.0</td>\n",
       "      <td>974302621</td>\n",
       "      <td>Boomerang (1992)</td>\n",
       "      <td>Comedy</td>\n",
       "      <td>3</td>\n",
       "    </tr>\n",
       "    <tr>\n",
       "      <th>1</th>\n",
       "      <td>139</td>\n",
       "      <td>122</td>\n",
       "      <td>3.0</td>\n",
       "      <td>974302621</td>\n",
       "      <td>Boomerang (1992)</td>\n",
       "      <td>Romance</td>\n",
       "      <td>3</td>\n",
       "    </tr>\n",
       "    <tr>\n",
       "      <th>2</th>\n",
       "      <td>149</td>\n",
       "      <td>122</td>\n",
       "      <td>2.5</td>\n",
       "      <td>1112342322</td>\n",
       "      <td>Boomerang (1992)</td>\n",
       "      <td>Comedy</td>\n",
       "      <td>2</td>\n",
       "    </tr>\n",
       "  </tbody>\n",
       "</table>\n",
       "</div>"
      ],
      "text/plain": [
       "   userId  movieId  rating   timestamp             title   genres  \\\n",
       "0       1      122     5.0   838985046  Boomerang (1992)   Comedy   \n",
       "0       1      122     5.0   838985046  Boomerang (1992)  Romance   \n",
       "1     139      122     3.0   974302621  Boomerang (1992)   Comedy   \n",
       "1     139      122     3.0   974302621  Boomerang (1992)  Romance   \n",
       "2     149      122     2.5  1112342322  Boomerang (1992)   Comedy   \n",
       "\n",
       "   rounded_rates  \n",
       "0              5  \n",
       "0              5  \n",
       "1              3  \n",
       "1              3  \n",
       "2              2  "
      ]
     },
     "execution_count": 14,
     "metadata": {},
     "output_type": "execute_result"
    }
   ],
   "source": [
    "#Split the genres and create a new dataframe\n",
    "\n",
    "# Split genres and explode the DataFrame\n",
    "movielens['genres'] = movielens['genres'].str.split('|')\n",
    "movielens_updated = movielens.explode('genres')\n",
    "\n",
    "# Display the transformed DataFrame\n",
    "movielens_updated.head()\n"
   ]
  },
  {
   "cell_type": "code",
   "execution_count": 15,
   "id": "e3ee4a64",
   "metadata": {},
   "outputs": [
    {
     "data": {
      "image/png": "[encoded data removed]",
      "text/plain": [
       "<Figure size 1200x600 with 1 Axes>"
      ]
     },
     "metadata": {},
     "output_type": "display_data"
    }
   ],
   "source": [
    "#Analyse distribution of movie releases based on year\n",
    "\n",
    "#Get release date usuing a function called extract_year to separate title from release year\n",
    "def extract_year(title):\n",
    "    match = re.search(r'\\((\\d{4})\\)', title)\n",
    "    if match:\n",
    "        return match.group(1)\n",
    "    return None\n",
    "\n",
    "\n",
    "#Call function and add a new column to store value of release year\n",
    "movielens_updated['Release_Year']= movielens_updated['title'].apply(extract_year).astype(int)\n",
    "\n",
    "# Create a histogram\n",
    "plt.figure(figsize=(12, 6))\n",
    "movielens_updated['Release_Year'].hist(bins=movielens_updated['Release_Year'].nunique())\n",
    "plt.xlabel('Release Year')\n",
    "plt.ylabel('Number of Movies')\n",
    "plt.title('Distribution of Movies  by Release Year')\n",
    "\n",
    "#Display chart\n",
    "plt.show()\n"
   ]
  },
  {
   "cell_type": "code",
   "execution_count": 16,
   "id": "93eafcff",
   "metadata": {},
   "outputs": [
    {
     "data": {
      "text/html": [
       "<div>\n",
       "<style scoped>\n",
       "    .dataframe tbody tr th:only-of-type {\n",
       "        vertical-align: middle;\n",
       "    }\n",
       "\n",
       "    .dataframe tbody tr th {\n",
       "        vertical-align: top;\n",
       "    }\n",
       "\n",
       "    .dataframe thead th {\n",
       "        text-align: right;\n",
       "    }\n",
       "</style>\n",
       "<table border=\"1\" class=\"dataframe\">\n",
       "  <thead>\n",
       "    <tr style=\"text-align: right;\">\n",
       "      <th></th>\n",
       "      <th>userId</th>\n",
       "      <th>movieId</th>\n",
       "      <th>rating</th>\n",
       "      <th>timestamp</th>\n",
       "      <th>title</th>\n",
       "      <th>genres</th>\n",
       "      <th>rounded_rates</th>\n",
       "      <th>Release_Year</th>\n",
       "      <th>day</th>\n",
       "      <th>month</th>\n",
       "      <th>year</th>\n",
       "    </tr>\n",
       "  </thead>\n",
       "  <tbody>\n",
       "    <tr>\n",
       "      <th>0</th>\n",
       "      <td>1</td>\n",
       "      <td>122</td>\n",
       "      <td>5.0</td>\n",
       "      <td>1996-08-02 13:24:06</td>\n",
       "      <td>Boomerang (1992)</td>\n",
       "      <td>Comedy</td>\n",
       "      <td>5</td>\n",
       "      <td>1992</td>\n",
       "      <td>2</td>\n",
       "      <td>8</td>\n",
       "      <td>1996</td>\n",
       "    </tr>\n",
       "    <tr>\n",
       "      <th>0</th>\n",
       "      <td>1</td>\n",
       "      <td>122</td>\n",
       "      <td>5.0</td>\n",
       "      <td>1996-08-02 13:24:06</td>\n",
       "      <td>Boomerang (1992)</td>\n",
       "      <td>Romance</td>\n",
       "      <td>5</td>\n",
       "      <td>1992</td>\n",
       "      <td>2</td>\n",
       "      <td>8</td>\n",
       "      <td>1996</td>\n",
       "    </tr>\n",
       "    <tr>\n",
       "      <th>1</th>\n",
       "      <td>139</td>\n",
       "      <td>122</td>\n",
       "      <td>3.0</td>\n",
       "      <td>2000-11-15 17:37:01</td>\n",
       "      <td>Boomerang (1992)</td>\n",
       "      <td>Comedy</td>\n",
       "      <td>3</td>\n",
       "      <td>1992</td>\n",
       "      <td>15</td>\n",
       "      <td>11</td>\n",
       "      <td>2000</td>\n",
       "    </tr>\n",
       "    <tr>\n",
       "      <th>1</th>\n",
       "      <td>139</td>\n",
       "      <td>122</td>\n",
       "      <td>3.0</td>\n",
       "      <td>2000-11-15 17:37:01</td>\n",
       "      <td>Boomerang (1992)</td>\n",
       "      <td>Romance</td>\n",
       "      <td>3</td>\n",
       "      <td>1992</td>\n",
       "      <td>15</td>\n",
       "      <td>11</td>\n",
       "      <td>2000</td>\n",
       "    </tr>\n",
       "    <tr>\n",
       "      <th>2</th>\n",
       "      <td>149</td>\n",
       "      <td>122</td>\n",
       "      <td>2.5</td>\n",
       "      <td>2005-04-01 09:58:42</td>\n",
       "      <td>Boomerang (1992)</td>\n",
       "      <td>Comedy</td>\n",
       "      <td>2</td>\n",
       "      <td>1992</td>\n",
       "      <td>1</td>\n",
       "      <td>4</td>\n",
       "      <td>2005</td>\n",
       "    </tr>\n",
       "  </tbody>\n",
       "</table>\n",
       "</div>"
      ],
      "text/plain": [
       "   userId  movieId  rating           timestamp             title   genres  \\\n",
       "0       1      122     5.0 1996-08-02 13:24:06  Boomerang (1992)   Comedy   \n",
       "0       1      122     5.0 1996-08-02 13:24:06  Boomerang (1992)  Romance   \n",
       "1     139      122     3.0 2000-11-15 17:37:01  Boomerang (1992)   Comedy   \n",
       "1     139      122     3.0 2000-11-15 17:37:01  Boomerang (1992)  Romance   \n",
       "2     149      122     2.5 2005-04-01 09:58:42  Boomerang (1992)   Comedy   \n",
       "\n",
       "   rounded_rates  Release_Year  day  month  year  \n",
       "0              5          1992    2      8  1996  \n",
       "0              5          1992    2      8  1996  \n",
       "1              3          1992   15     11  2000  \n",
       "1              3          1992   15     11  2000  \n",
       "2              2          1992    1      4  2005  "
      ]
     },
     "execution_count": 16,
     "metadata": {},
     "output_type": "execute_result"
    }
   ],
   "source": [
    "#Process the timestamp column for analyis and modeling purposes\n",
    "#Extract year, day and month\n",
    "\n",
    "\n",
    "# Define a custom function to convert Unix timestamp to datetime\n",
    "def unix_to_datetime(timestamp):\n",
    "    return datetime.datetime.fromtimestamp(timestamp)\n",
    "\n",
    "# Apply the custom function to the 'timestamp' column\n",
    "movielens_updated['timestamp'] = movielens_updated['timestamp'].apply(unix_to_datetime)\n",
    "\n",
    "\n",
    "# Create new columns for day, month, and year by separating the 'timestamp' column\n",
    "movielens_updated['day'] = movielens_updated['timestamp'].dt.day\n",
    "movielens_updated['month'] = movielens_updated['timestamp'].dt.month\n",
    "movielens_updated['year'] = movielens_updated['timestamp'].dt.year\n",
    "\n",
    "movielens_updated.head(5)"
   ]
  },
  {
   "cell_type": "code",
   "execution_count": 17,
   "id": "55ea0706",
   "metadata": {},
   "outputs": [
    {
     "data": {
      "image/png": "[encoded data removed]",
      "text/plain": [
       "<Figure size 800x800 with 1 Axes>"
      ]
     },
     "metadata": {},
     "output_type": "display_data"
    }
   ],
   "source": [
    "#Ratings analysis to show how many movies were rated under each rating level\n",
    "\n",
    "# Count the number of movies under each rating type\n",
    "movielens_rating_counts = movielens_updated['rating'].value_counts()\n",
    "\n",
    "# Create the pie chart\n",
    "plt.figure(figsize=(8, 8))\n",
    "plt.pie(movielens_rating_counts, labels=movielens_rating_counts.index, autopct='%1.1f%%')\n",
    "plt.title('Percentage of Movies by Rating Type')\n",
    "plt.axis('equal')\n",
    "\n",
    "#show legend\n",
    "plt.legend(movielens_rating_counts.index, title='Rating Levels', loc='upper right', bbox_to_anchor=(1.4, 0.8))\n",
    "\n",
    "#Display chart\n",
    "plt.show()"
   ]
  },
  {
   "cell_type": "code",
   "execution_count": 18,
   "id": "b7ecab48",
   "metadata": {},
   "outputs": [
    {
     "data": {
      "image/png": "[encoded data removed]",
      "text/plain": [
       "<Figure size 1200x600 with 1 Axes>"
      ]
     },
     "metadata": {},
     "output_type": "display_data"
    }
   ],
   "source": [
    "#Genres analysis to see which genres recieved most high ratings\n",
    "\n",
    "# Filter the dataframe to only include movies with a rating of 5.0\n",
    "high_rated_movies = movielens_updated[movielens_updated['rating'] == 5.0]\n",
    "\n",
    "# Count the number of movies in each genre with a rating of 5.0\n",
    "genre_counts = high_rated_movies['genres'].value_counts().nlargest(8)\n",
    "\n",
    "# Create the bar graph\n",
    "plt.figure(figsize=(12, 6))\n",
    "genre_counts.plot(kind='bar')\n",
    "plt.xlabel('Genre')\n",
    "plt.ylabel('Number of Movies with Rating 5.0')\n",
    "plt.title('Top 8 Genres with Movies Rated 5.0')\n",
    "plt.xticks(rotation=45)\n",
    "plt.show()"
   ]
  },
  {
   "cell_type": "code",
   "execution_count": 19,
   "id": "d11a9c9d",
   "metadata": {},
   "outputs": [
    {
     "data": {
      "image/png": "[encoded data removed]",
      "text/plain": [
       "<Figure size 1600x600 with 1 Axes>"
      ]
     },
     "metadata": {},
     "output_type": "display_data"
    }
   ],
   "source": [
    "#Analysis of the top 10 greatest movies with most ratings and the genres they belong to\n",
    "\n",
    "# Ratings are grouped by movie title and average rating is calculated for each and only the top 10 is selected.\n",
    "movie_ratings = movielens.groupby('title')['rating'].count().nlargest(10)\n",
    "\n",
    "\n",
    "# Becuase  the movie names are too long, we extract the first two words of the movie titles\n",
    "#Also selected the genre that each movie belongs to\n",
    "title_words = [' '.join(title.split()[:2]) for title in movie_ratings.index]\n",
    "# genres = [movielens.loc[movielens['title'] == title, 'genres'].values[0]\n",
    "#           for title in movie_ratings.index]\n",
    "\n",
    "genres = [tuple(movielens.loc[movielens['title'] == title, 'genres'].values[0]) for title in movie_ratings.index]\n",
    "\n",
    "# Create the  bar graph\n",
    "fig, ax = plt.subplots(figsize=(16, 6))\n",
    "bars = ax.bar(range(len(movie_ratings)), movie_ratings.values, color=[plt.cm.viridis(i/float(len(movie_ratings)-1))\n",
    "                                                                      for i in range(len(movie_ratings))])\n",
    "ax.set_xticks(range(len(movie_ratings)))\n",
    "ax.set_xticklabels(title_words, rotation=70)\n",
    "ax.set_xlabel('Movie Titles')\n",
    "ax.set_ylabel('Average Rating')\n",
    "ax.set_title('Top 10 Movies with Highest Ratings')\n",
    "\n",
    "# Add the legend\n",
    "legend_labels = sorted(set(genres))\n",
    "legend_handles = [plt.Rectangle((0,0),1,1, color=plt.cm.viridis(i/float(len(legend_labels)-1))) for i in range(len(legend_labels))]\n",
    "ax.legend(legend_handles, legend_labels, title='Genres', loc='center left', bbox_to_anchor=(1.04, 0.5), fontsize='medium')\n",
    "\n",
    "plt.tight_layout()\n",
    "plt.show()"
   ]
  },
  {
   "cell_type": "code",
   "execution_count": 76,
   "id": "26fcb840",
   "metadata": {},
   "outputs": [
    {
     "data": {
      "image/png": "[encoded data removed]",
      "text/plain": [
       "<Figure size 1500x600 with 2 Axes>"
      ]
     },
     "metadata": {},
     "output_type": "display_data"
    }
   ],
   "source": [
    "\"\"\"Analysis of movie populariy based on number of user ratings and the type of ratings given. This analysis\n",
    "looks at both the count of movie ratings and the average rating per each movie. The aim of the analysis \n",
    "is to ascertain that a good movie should have a higher rating and should been rated/watched by many.\"\"\"\n",
    "\n",
    "\n",
    "#Step 1:We extract the first two words for movie name to shorten the name\n",
    "movielens['short_title'] = movielens['title'].apply(lambda x: ' '.join(x.split()[:2]))\n",
    "\n",
    "#Step 2: we calculate the average rating and count ratings for each movie\n",
    "movie_stats =movie_ratings = movielens.groupby('short_title')['rating'].agg(['mean', 'count']).reset_index()\n",
    "movie_stats.columns=['short_title', 'avg_rating', 'count_rating']\n",
    "\n",
    "#Step 3: we normalize the values usuing a standardScaler so that they can be assesed usuing same visiualizations\n",
    "scaler = StandardScaler() \n",
    "movie_stats[['avg_rating_scaled', 'count_rating_scaled']] = scaler.fit_transform(\n",
    "    movie_stats[['avg_rating', 'count_rating']])\n",
    "\n",
    "\n",
    "#Step 4: We get the top 5 by average rating and count of ratings\n",
    "top_5_avg_rating = movie_stats.nlargest(5, 'avg_rating_scaled')\n",
    "top_5_count_rating = movie_stats.nlargest(5, 'count_rating_scaled')\n",
    "\n",
    "\n",
    "#Step 5:Plotting\n",
    "fig, axes = plt.subplots(nrows=1, ncols=2, figsize=(15, 6))\n",
    "\n",
    "# Top 5 by average rating\n",
    "axes[0].bar(top_5_avg_rating['short_title'], top_5_avg_rating['avg_rating_scaled'], label='Average Rating')\n",
    "axes[0].bar(top_5_avg_rating['short_title'], top_5_avg_rating['count_rating'], label='Count of Ratings',\n",
    "            alpha=0.5)\n",
    "axes[0].set_title('Top 5 Movies by Average Rating')\n",
    "axes[0].set_xlabel('Movie Title')\n",
    "axes[0].set_ylabel('Values')\n",
    "axes[0].legend()\n",
    "\n",
    "# Top 5 by count of ratings\n",
    "axes[1].bar(top_5_count_rating['short_title'], top_5_count_rating['avg_rating_scaled'], label='Average Rating')\n",
    "axes[1].bar(top_5_count_rating['short_title'], top_5_count_rating['count_rating_scaled'], label='Count of Ratings',\n",
    "            alpha=0.5)\n",
    "axes[1].set_title('Top 5 Movies by Count of Ratings')\n",
    "axes[1].set_xlabel('Movie Title')\n",
    "axes[1].set_ylabel('Values')\n",
    "axes[1].legend()\n",
    "\n",
    "plt.tight_layout()\n",
    "plt.show()\n"
   ]
  },
  {
   "cell_type": "markdown",
   "id": "a8194bc8",
   "metadata": {},
   "source": [
    "### Step 3:Data Preprocessing "
   ]
  },
  {
   "cell_type": "markdown",
   "id": "820135a0",
   "metadata": {},
   "source": [
    "In this section features and target varibales will be selected.\n",
    "\n",
    "**Features/Predictors**\n",
    "- Title of movie          \n",
    "- Movie release date based on the title column  \n",
    "- Year  based on timestamp column \n",
    "- Gener\n",
    "\n",
    "**Target Variable**\n",
    "- rating, what we intend to predict   "
   ]
  },
  {
   "cell_type": "code",
   "execution_count": 20,
   "id": "ed9a2f74",
   "metadata": {},
   "outputs": [
    {
     "data": {
      "text/html": [
       "<div>\n",
       "<style scoped>\n",
       "    .dataframe tbody tr th:only-of-type {\n",
       "        vertical-align: middle;\n",
       "    }\n",
       "\n",
       "    .dataframe tbody tr th {\n",
       "        vertical-align: top;\n",
       "    }\n",
       "\n",
       "    .dataframe thead th {\n",
       "        text-align: right;\n",
       "    }\n",
       "</style>\n",
       "<table border=\"1\" class=\"dataframe\">\n",
       "  <thead>\n",
       "    <tr style=\"text-align: right;\">\n",
       "      <th></th>\n",
       "      <th>userId</th>\n",
       "      <th>movieId</th>\n",
       "      <th>rating</th>\n",
       "      <th>timestamp</th>\n",
       "      <th>title</th>\n",
       "      <th>genres</th>\n",
       "      <th>rounded_rates</th>\n",
       "      <th>Release_Year</th>\n",
       "      <th>day</th>\n",
       "      <th>month</th>\n",
       "      <th>year</th>\n",
       "      <th>title_encoded</th>\n",
       "      <th>genres_encoded</th>\n",
       "    </tr>\n",
       "  </thead>\n",
       "  <tbody>\n",
       "    <tr>\n",
       "      <th>0</th>\n",
       "      <td>1</td>\n",
       "      <td>122</td>\n",
       "      <td>5.0</td>\n",
       "      <td>1996-08-02 13:24:06</td>\n",
       "      <td>Boomerang (1992)</td>\n",
       "      <td>Comedy</td>\n",
       "      <td>5</td>\n",
       "      <td>1992</td>\n",
       "      <td>2</td>\n",
       "      <td>8</td>\n",
       "      <td>1996</td>\n",
       "      <td>0.000186</td>\n",
       "      <td>0.151501</td>\n",
       "    </tr>\n",
       "    <tr>\n",
       "      <th>0</th>\n",
       "      <td>1</td>\n",
       "      <td>122</td>\n",
       "      <td>5.0</td>\n",
       "      <td>1996-08-02 13:24:06</td>\n",
       "      <td>Boomerang (1992)</td>\n",
       "      <td>Romance</td>\n",
       "      <td>5</td>\n",
       "      <td>1992</td>\n",
       "      <td>2</td>\n",
       "      <td>8</td>\n",
       "      <td>1996</td>\n",
       "      <td>0.000186</td>\n",
       "      <td>0.073242</td>\n",
       "    </tr>\n",
       "    <tr>\n",
       "      <th>1</th>\n",
       "      <td>139</td>\n",
       "      <td>122</td>\n",
       "      <td>3.0</td>\n",
       "      <td>2000-11-15 17:37:01</td>\n",
       "      <td>Boomerang (1992)</td>\n",
       "      <td>Comedy</td>\n",
       "      <td>3</td>\n",
       "      <td>1992</td>\n",
       "      <td>15</td>\n",
       "      <td>11</td>\n",
       "      <td>2000</td>\n",
       "      <td>0.000186</td>\n",
       "      <td>0.151501</td>\n",
       "    </tr>\n",
       "    <tr>\n",
       "      <th>1</th>\n",
       "      <td>139</td>\n",
       "      <td>122</td>\n",
       "      <td>3.0</td>\n",
       "      <td>2000-11-15 17:37:01</td>\n",
       "      <td>Boomerang (1992)</td>\n",
       "      <td>Romance</td>\n",
       "      <td>3</td>\n",
       "      <td>1992</td>\n",
       "      <td>15</td>\n",
       "      <td>11</td>\n",
       "      <td>2000</td>\n",
       "      <td>0.000186</td>\n",
       "      <td>0.073242</td>\n",
       "    </tr>\n",
       "    <tr>\n",
       "      <th>2</th>\n",
       "      <td>149</td>\n",
       "      <td>122</td>\n",
       "      <td>2.5</td>\n",
       "      <td>2005-04-01 09:58:42</td>\n",
       "      <td>Boomerang (1992)</td>\n",
       "      <td>Comedy</td>\n",
       "      <td>2</td>\n",
       "      <td>1992</td>\n",
       "      <td>1</td>\n",
       "      <td>4</td>\n",
       "      <td>2005</td>\n",
       "      <td>0.000186</td>\n",
       "      <td>0.151501</td>\n",
       "    </tr>\n",
       "  </tbody>\n",
       "</table>\n",
       "</div>"
      ],
      "text/plain": [
       "   userId  movieId  rating           timestamp             title   genres  \\\n",
       "0       1      122     5.0 1996-08-02 13:24:06  Boomerang (1992)   Comedy   \n",
       "0       1      122     5.0 1996-08-02 13:24:06  Boomerang (1992)  Romance   \n",
       "1     139      122     3.0 2000-11-15 17:37:01  Boomerang (1992)   Comedy   \n",
       "1     139      122     3.0 2000-11-15 17:37:01  Boomerang (1992)  Romance   \n",
       "2     149      122     2.5 2005-04-01 09:58:42  Boomerang (1992)   Comedy   \n",
       "\n",
       "   rounded_rates  Release_Year  day  month  year  title_encoded  \\\n",
       "0              5          1992    2      8  1996       0.000186   \n",
       "0              5          1992    2      8  1996       0.000186   \n",
       "1              3          1992   15     11  2000       0.000186   \n",
       "1              3          1992   15     11  2000       0.000186   \n",
       "2              2          1992    1      4  2005       0.000186   \n",
       "\n",
       "   genres_encoded  \n",
       "0        0.151501  \n",
       "0        0.073242  \n",
       "1        0.151501  \n",
       "1        0.073242  \n",
       "2        0.151501  "
      ]
     },
     "execution_count": 20,
     "metadata": {},
     "output_type": "execute_result"
    }
   ],
   "source": [
    "# Convert categorical variables to numerical for processing usuing standard scaler\n",
    "encoded_columns = []\n",
    "for column in movielens_updated.columns:\n",
    "    if movielens_updated[column].dtype == 'object':  # Check if the column is categorical\n",
    "        frequency_map = movielens_updated[column].value_counts(normalize=True)\n",
    "        encoded_column = column + '_encoded'\n",
    "        movielens_updated[encoded_column] = movielens_updated[column].map(frequency_map)\n",
    "        encoded_columns.append(encoded_column)\n",
    "\n",
    "# Print the encoded new movielens dataframe\n",
    "movielens_updated.head(5)"
   ]
  },
  {
   "cell_type": "code",
   "execution_count": 21,
   "id": "22c5b82d",
   "metadata": {},
   "outputs": [
    {
     "data": {
      "text/html": [
       "<div>\n",
       "<style scoped>\n",
       "    .dataframe tbody tr th:only-of-type {\n",
       "        vertical-align: middle;\n",
       "    }\n",
       "\n",
       "    .dataframe tbody tr th {\n",
       "        vertical-align: top;\n",
       "    }\n",
       "\n",
       "    .dataframe thead th {\n",
       "        text-align: right;\n",
       "    }\n",
       "</style>\n",
       "<table border=\"1\" class=\"dataframe\">\n",
       "  <thead>\n",
       "    <tr style=\"text-align: right;\">\n",
       "      <th></th>\n",
       "      <th>Release_Year</th>\n",
       "      <th>title_encoded</th>\n",
       "      <th>genres_encoded</th>\n",
       "      <th>year</th>\n",
       "      <th>rating</th>\n",
       "    </tr>\n",
       "  </thead>\n",
       "  <tbody>\n",
       "    <tr>\n",
       "      <th>0</th>\n",
       "      <td>1915</td>\n",
       "      <td>0.000016</td>\n",
       "      <td>0.021876</td>\n",
       "      <td>2003</td>\n",
       "      <td>88.0</td>\n",
       "    </tr>\n",
       "    <tr>\n",
       "      <th>1</th>\n",
       "      <td>1915</td>\n",
       "      <td>0.000016</td>\n",
       "      <td>0.021876</td>\n",
       "      <td>2004</td>\n",
       "      <td>237.0</td>\n",
       "    </tr>\n",
       "    <tr>\n",
       "      <th>2</th>\n",
       "      <td>1915</td>\n",
       "      <td>0.000016</td>\n",
       "      <td>0.021876</td>\n",
       "      <td>2005</td>\n",
       "      <td>149.5</td>\n",
       "    </tr>\n",
       "    <tr>\n",
       "      <th>3</th>\n",
       "      <td>1915</td>\n",
       "      <td>0.000016</td>\n",
       "      <td>0.021876</td>\n",
       "      <td>2006</td>\n",
       "      <td>79.0</td>\n",
       "    </tr>\n",
       "    <tr>\n",
       "      <th>4</th>\n",
       "      <td>1915</td>\n",
       "      <td>0.000016</td>\n",
       "      <td>0.021876</td>\n",
       "      <td>2007</td>\n",
       "      <td>55.5</td>\n",
       "    </tr>\n",
       "  </tbody>\n",
       "</table>\n",
       "</div>"
      ],
      "text/plain": [
       "   Release_Year  title_encoded  genres_encoded  year  rating\n",
       "0          1915       0.000016        0.021876  2003    88.0\n",
       "1          1915       0.000016        0.021876  2004   237.0\n",
       "2          1915       0.000016        0.021876  2005   149.5\n",
       "3          1915       0.000016        0.021876  2006    79.0\n",
       "4          1915       0.000016        0.021876  2007    55.5"
      ]
     },
     "execution_count": 21,
     "metadata": {},
     "output_type": "execute_result"
    }
   ],
   "source": [
    "#Created a new dataframe based on total ratings usuing feature variables for improved model perfomance\n",
    "#Grouping simplifies the model by reducing complexity and increase chance of capturing essential patterns\n",
    "\n",
    "rates_counts = movielens_updated.groupby(['Release_Year','title_encoded','genres_encoded'\n",
    "                                         ,'year'])['rating'].sum().reset_index()\n",
    "\n",
    "\n",
    "# Display the updated DataFrame\n",
    "rates_counts.head(5)"
   ]
  },
  {
   "cell_type": "code",
   "execution_count": 22,
   "id": "babf85d2",
   "metadata": {},
   "outputs": [
    {
     "data": {
      "text/html": [
       "<div>\n",
       "<style scoped>\n",
       "    .dataframe tbody tr th:only-of-type {\n",
       "        vertical-align: middle;\n",
       "    }\n",
       "\n",
       "    .dataframe tbody tr th {\n",
       "        vertical-align: top;\n",
       "    }\n",
       "\n",
       "    .dataframe thead th {\n",
       "        text-align: right;\n",
       "    }\n",
       "</style>\n",
       "<table border=\"1\" class=\"dataframe\">\n",
       "  <thead>\n",
       "    <tr style=\"text-align: right;\">\n",
       "      <th></th>\n",
       "      <th>Release_Year</th>\n",
       "      <th>title_encoded</th>\n",
       "      <th>genres_encoded</th>\n",
       "      <th>year</th>\n",
       "      <th>rating</th>\n",
       "    </tr>\n",
       "  </thead>\n",
       "  <tbody>\n",
       "    <tr>\n",
       "      <th>0</th>\n",
       "      <td>-4.062680</td>\n",
       "      <td>-0.418596</td>\n",
       "      <td>-1.439249</td>\n",
       "      <td>-0.365551</td>\n",
       "      <td>-0.312618</td>\n",
       "    </tr>\n",
       "    <tr>\n",
       "      <th>1</th>\n",
       "      <td>-4.062680</td>\n",
       "      <td>-0.418596</td>\n",
       "      <td>-1.439249</td>\n",
       "      <td>-0.064799</td>\n",
       "      <td>-0.222281</td>\n",
       "    </tr>\n",
       "    <tr>\n",
       "      <th>2</th>\n",
       "      <td>-4.062680</td>\n",
       "      <td>-0.418596</td>\n",
       "      <td>-1.439249</td>\n",
       "      <td>0.235954</td>\n",
       "      <td>-0.275331</td>\n",
       "    </tr>\n",
       "    <tr>\n",
       "      <th>3</th>\n",
       "      <td>-4.062680</td>\n",
       "      <td>-0.418596</td>\n",
       "      <td>-1.439249</td>\n",
       "      <td>0.536706</td>\n",
       "      <td>-0.318075</td>\n",
       "    </tr>\n",
       "    <tr>\n",
       "      <th>4</th>\n",
       "      <td>-4.062680</td>\n",
       "      <td>-0.418596</td>\n",
       "      <td>-1.439249</td>\n",
       "      <td>0.837458</td>\n",
       "      <td>-0.332323</td>\n",
       "    </tr>\n",
       "    <tr>\n",
       "      <th>...</th>\n",
       "      <td>...</td>\n",
       "      <td>...</td>\n",
       "      <td>...</td>\n",
       "      <td>...</td>\n",
       "      <td>...</td>\n",
       "    </tr>\n",
       "    <tr>\n",
       "      <th>151720</th>\n",
       "      <td>1.208108</td>\n",
       "      <td>0.313256</td>\n",
       "      <td>-0.806765</td>\n",
       "      <td>1.438963</td>\n",
       "      <td>-0.163774</td>\n",
       "    </tr>\n",
       "    <tr>\n",
       "      <th>151721</th>\n",
       "      <td>1.208108</td>\n",
       "      <td>0.313256</td>\n",
       "      <td>0.148971</td>\n",
       "      <td>1.138211</td>\n",
       "      <td>6.196825</td>\n",
       "    </tr>\n",
       "    <tr>\n",
       "      <th>151722</th>\n",
       "      <td>1.208108</td>\n",
       "      <td>0.313256</td>\n",
       "      <td>0.148971</td>\n",
       "      <td>1.438963</td>\n",
       "      <td>-0.163774</td>\n",
       "    </tr>\n",
       "    <tr>\n",
       "      <th>151723</th>\n",
       "      <td>1.208108</td>\n",
       "      <td>0.313256</td>\n",
       "      <td>1.194294</td>\n",
       "      <td>1.138211</td>\n",
       "      <td>6.196825</td>\n",
       "    </tr>\n",
       "    <tr>\n",
       "      <th>151724</th>\n",
       "      <td>1.208108</td>\n",
       "      <td>0.313256</td>\n",
       "      <td>1.194294</td>\n",
       "      <td>1.438963</td>\n",
       "      <td>-0.163774</td>\n",
       "    </tr>\n",
       "  </tbody>\n",
       "</table>\n",
       "<p>151725 rows × 5 columns</p>\n",
       "</div>"
      ],
      "text/plain": [
       "        Release_Year  title_encoded  genres_encoded      year    rating\n",
       "0          -4.062680      -0.418596       -1.439249 -0.365551 -0.312618\n",
       "1          -4.062680      -0.418596       -1.439249 -0.064799 -0.222281\n",
       "2          -4.062680      -0.418596       -1.439249  0.235954 -0.275331\n",
       "3          -4.062680      -0.418596       -1.439249  0.536706 -0.318075\n",
       "4          -4.062680      -0.418596       -1.439249  0.837458 -0.332323\n",
       "...              ...            ...             ...       ...       ...\n",
       "151720      1.208108       0.313256       -0.806765  1.438963 -0.163774\n",
       "151721      1.208108       0.313256        0.148971  1.138211  6.196825\n",
       "151722      1.208108       0.313256        0.148971  1.438963 -0.163774\n",
       "151723      1.208108       0.313256        1.194294  1.138211  6.196825\n",
       "151724      1.208108       0.313256        1.194294  1.438963 -0.163774\n",
       "\n",
       "[151725 rows x 5 columns]"
      ]
     },
     "execution_count": 22,
     "metadata": {},
     "output_type": "execute_result"
    }
   ],
   "source": [
    "# Selected numeric variables to be scaled. Model perfoms better if scaled data is used. \n",
    "\n",
    "numeric_columns = ['Release_Year','rating','genres_encoded','title_encoded','year']\n",
    "\n",
    "# Create a StandardScaler object\n",
    "scaler = StandardScaler()\n",
    "\n",
    "# Fit the scaler on the selected columns and transform the data\n",
    "movielens_scaled = rates_counts.copy()  # Create a copy of the original DataFrame\n",
    "movielens_scaled[numeric_columns] = scaler.fit_transform(movielens_scaled[numeric_columns])\n",
    "\n",
    "# Print the resulting scaled DataFrame\n",
    "movielens_scaled"
   ]
  },
  {
   "cell_type": "markdown",
   "id": "684bc4c8",
   "metadata": {},
   "source": [
    "### Step 4: Feature Selection and Engineering"
   ]
  },
  {
   "cell_type": "code",
   "execution_count": 23,
   "id": "f0bd4e5a",
   "metadata": {},
   "outputs": [
    {
     "data": {
      "text/html": [
       "<div>\n",
       "<style scoped>\n",
       "    .dataframe tbody tr th:only-of-type {\n",
       "        vertical-align: middle;\n",
       "    }\n",
       "\n",
       "    .dataframe tbody tr th {\n",
       "        vertical-align: top;\n",
       "    }\n",
       "\n",
       "    .dataframe thead th {\n",
       "        text-align: right;\n",
       "    }\n",
       "</style>\n",
       "<table border=\"1\" class=\"dataframe\">\n",
       "  <thead>\n",
       "    <tr style=\"text-align: right;\">\n",
       "      <th></th>\n",
       "      <th>Release_Year</th>\n",
       "      <th>title_encoded</th>\n",
       "      <th>genres_encoded</th>\n",
       "      <th>year</th>\n",
       "      <th>rating</th>\n",
       "    </tr>\n",
       "  </thead>\n",
       "  <tbody>\n",
       "    <tr>\n",
       "      <th>Release_Year</th>\n",
       "      <td>1.000000</td>\n",
       "      <td>0.074761</td>\n",
       "      <td>0.079621</td>\n",
       "      <td>0.029095</td>\n",
       "      <td>0.068185</td>\n",
       "    </tr>\n",
       "    <tr>\n",
       "      <th>title_encoded</th>\n",
       "      <td>0.074761</td>\n",
       "      <td>1.000000</td>\n",
       "      <td>-0.084928</td>\n",
       "      <td>-0.126246</td>\n",
       "      <td>0.613211</td>\n",
       "    </tr>\n",
       "    <tr>\n",
       "      <th>genres_encoded</th>\n",
       "      <td>0.079621</td>\n",
       "      <td>-0.084928</td>\n",
       "      <td>1.000000</td>\n",
       "      <td>-0.016339</td>\n",
       "      <td>-0.029587</td>\n",
       "    </tr>\n",
       "    <tr>\n",
       "      <th>year</th>\n",
       "      <td>0.029095</td>\n",
       "      <td>-0.126246</td>\n",
       "      <td>-0.016339</td>\n",
       "      <td>1.000000</td>\n",
       "      <td>-0.217653</td>\n",
       "    </tr>\n",
       "    <tr>\n",
       "      <th>rating</th>\n",
       "      <td>0.068185</td>\n",
       "      <td>0.613211</td>\n",
       "      <td>-0.029587</td>\n",
       "      <td>-0.217653</td>\n",
       "      <td>1.000000</td>\n",
       "    </tr>\n",
       "  </tbody>\n",
       "</table>\n",
       "</div>"
      ],
      "text/plain": [
       "                Release_Year  title_encoded  genres_encoded      year  \\\n",
       "Release_Year        1.000000       0.074761        0.079621  0.029095   \n",
       "title_encoded       0.074761       1.000000       -0.084928 -0.126246   \n",
       "genres_encoded      0.079621      -0.084928        1.000000 -0.016339   \n",
       "year                0.029095      -0.126246       -0.016339  1.000000   \n",
       "rating              0.068185       0.613211       -0.029587 -0.217653   \n",
       "\n",
       "                  rating  \n",
       "Release_Year    0.068185  \n",
       "title_encoded   0.613211  \n",
       "genres_encoded -0.029587  \n",
       "year           -0.217653  \n",
       "rating          1.000000  "
      ]
     },
     "execution_count": 23,
     "metadata": {},
     "output_type": "execute_result"
    }
   ],
   "source": [
    "#Used correlation matrix table to choose variables and to make sure correlation socres are within expected levels\n",
    "\n",
    "#Select only numerical columns for correlation analysis\n",
    "movielens_scaled_nu= movielens_scaled.select_dtypes(include=[np.number])\n",
    "\n",
    "#call the correlation function usuing the dataframe (movielens_scaled_nu) with numericals only\n",
    "corr_matrix = movielens_scaled_nu.corr()\n",
    "\n",
    "#show correlation table\n",
    "corr_matrix\n"
   ]
  },
  {
   "cell_type": "markdown",
   "id": "f37e8b56",
   "metadata": {},
   "source": [
    "Select variables for X and y.  X variables being the predictors and y variable being the target"
   ]
  },
  {
   "cell_type": "code",
   "execution_count": 24,
   "id": "0b30188f",
   "metadata": {},
   "outputs": [
    {
     "data": {
      "text/html": [
       "<div>\n",
       "<style scoped>\n",
       "    .dataframe tbody tr th:only-of-type {\n",
       "        vertical-align: middle;\n",
       "    }\n",
       "\n",
       "    .dataframe tbody tr th {\n",
       "        vertical-align: top;\n",
       "    }\n",
       "\n",
       "    .dataframe thead th {\n",
       "        text-align: right;\n",
       "    }\n",
       "</style>\n",
       "<table border=\"1\" class=\"dataframe\">\n",
       "  <thead>\n",
       "    <tr style=\"text-align: right;\">\n",
       "      <th></th>\n",
       "      <th>Release_Year</th>\n",
       "      <th>title_encoded</th>\n",
       "      <th>genres_encoded</th>\n",
       "      <th>year</th>\n",
       "    </tr>\n",
       "  </thead>\n",
       "  <tbody>\n",
       "    <tr>\n",
       "      <th>0</th>\n",
       "      <td>-4.06268</td>\n",
       "      <td>-0.418596</td>\n",
       "      <td>-1.439249</td>\n",
       "      <td>-0.365551</td>\n",
       "    </tr>\n",
       "    <tr>\n",
       "      <th>1</th>\n",
       "      <td>-4.06268</td>\n",
       "      <td>-0.418596</td>\n",
       "      <td>-1.439249</td>\n",
       "      <td>-0.064799</td>\n",
       "    </tr>\n",
       "  </tbody>\n",
       "</table>\n",
       "</div>"
      ],
      "text/plain": [
       "   Release_Year  title_encoded  genres_encoded      year\n",
       "0      -4.06268      -0.418596       -1.439249 -0.365551\n",
       "1      -4.06268      -0.418596       -1.439249 -0.064799"
      ]
     },
     "execution_count": 24,
     "metadata": {},
     "output_type": "execute_result"
    }
   ],
   "source": [
    "#select movie release year, the movieId for identification,the title of the movie,  genre, year and month of rating\n",
    "#X =  movielens_scaled[['Release_Year','movieId','title_encoded','genres_encoded','year','month']]\n",
    "X =  movielens_scaled[['Release_Year','title_encoded','genres_encoded','year']]\n",
    "\n",
    "\n",
    "#Show x variables\n",
    "X.head(2)"
   ]
  },
  {
   "cell_type": "code",
   "execution_count": 25,
   "id": "ca0297bb",
   "metadata": {},
   "outputs": [
    {
     "data": {
      "text/plain": [
       "0   -0.312618\n",
       "1   -0.222281\n",
       "Name: rating, dtype: float64"
      ]
     },
     "execution_count": 25,
     "metadata": {},
     "output_type": "execute_result"
    }
   ],
   "source": [
    "#Select the target variable which is the ratings column that the model will predict\n",
    "y =  movielens_scaled['rating']\n",
    "\n",
    "#show target variable\n",
    "y.head(2)"
   ]
  },
  {
   "cell_type": "code",
   "execution_count": 26,
   "id": "4dae688a",
   "metadata": {},
   "outputs": [
    {
     "name": "stdout",
     "output_type": "stream",
     "text": [
      "(136552, 4)\n",
      "(15173, 4)\n",
      "(136552,)\n",
      "(15173,)\n"
     ]
    }
   ],
   "source": [
    "#Split  training and validation sets (10%). The validaion will be used at the end for final evaluation.\n",
    "X_temp, X_val, y_temp, y_val = train_test_split(X, y, test_size=0.1,\n",
    "                                                random_state=142) #varible temp is for training and testing\n",
    "\n",
    "print( X_temp.shape )\n",
    "print( X_val.shape )\n",
    "print( y_temp.shape )\n",
    "print( y_val.shape )\n"
   ]
  },
  {
   "cell_type": "code",
   "execution_count": 27,
   "id": "a746150e",
   "metadata": {},
   "outputs": [
    {
     "name": "stdout",
     "output_type": "stream",
     "text": [
      "(122896, 4)\n",
      "(13656, 4)\n",
      "(122896,)\n",
      "(13656,)\n"
     ]
    }
   ],
   "source": [
    "#Split the training dataset into test data (10%) and train data 90% of the training data\n",
    "X_train, X_test, y_train, y_test = train_test_split(X_temp, y_temp, test_size=0.1, random_state=142)\n",
    "\n",
    "#Check shapes of train and test data\n",
    "\n",
    "print( X_train.shape )\n",
    "print( X_test.shape )\n",
    "print( y_train.shape )\n",
    "print( y_test.shape )"
   ]
  },
  {
   "cell_type": "markdown",
   "id": "1c70e8ce",
   "metadata": {},
   "source": [
    "### Step 5:Model selection and Training"
   ]
  },
  {
   "cell_type": "code",
   "execution_count": 28,
   "id": "d187e2e9",
   "metadata": {},
   "outputs": [
    {
     "name": "stdout",
     "output_type": "stream",
     "text": [
      "Cross-Validation RMSE: 0.7618743904749534\n"
     ]
    },
    {
     "data": {
      "text/html": [
       "<style>#sk-container-id-1 {color: black;}#sk-container-id-1 pre{padding: 0;}#sk-container-id-1 div.sk-toggleable {background-color: white;}#sk-container-id-1 label.sk-toggleable__label {cursor: pointer;display: block;width: 100%;margin-bottom: 0;padding: 0.3em;box-sizing: border-box;text-align: center;}#sk-container-id-1 label.sk-toggleable__label-arrow:before {content: \"▸\";float: left;margin-right: 0.25em;color: #696969;}#sk-container-id-1 label.sk-toggleable__label-arrow:hover:before {color: black;}#sk-container-id-1 div.sk-estimator:hover label.sk-toggleable__label-arrow:before {color: black;}#sk-container-id-1 div.sk-toggleable__content {max-height: 0;max-width: 0;overflow: hidden;text-align: left;background-color: #f0f8ff;}#sk-container-id-1 div.sk-toggleable__content pre {margin: 0.2em;color: black;border-radius: 0.25em;background-color: #f0f8ff;}#sk-container-id-1 input.sk-toggleable__control:checked~div.sk-toggleable__content {max-height: 200px;max-width: 100%;overflow: auto;}#sk-container-id-1 input.sk-toggleable__control:checked~label.sk-toggleable__label-arrow:before {content: \"▾\";}#sk-container-id-1 div.sk-estimator input.sk-toggleable__control:checked~label.sk-toggleable__label {background-color: #d4ebff;}#sk-container-id-1 div.sk-label input.sk-toggleable__control:checked~label.sk-toggleable__label {background-color: #d4ebff;}#sk-container-id-1 input.sk-hidden--visually {border: 0;clip: rect(1px 1px 1px 1px);clip: rect(1px, 1px, 1px, 1px);height: 1px;margin: -1px;overflow: hidden;padding: 0;position: absolute;width: 1px;}#sk-container-id-1 div.sk-estimator {font-family: monospace;background-color: #f0f8ff;border: 1px dotted black;border-radius: 0.25em;box-sizing: border-box;margin-bottom: 0.5em;}#sk-container-id-1 div.sk-estimator:hover {background-color: #d4ebff;}#sk-container-id-1 div.sk-parallel-item::after {content: \"\";width: 100%;border-bottom: 1px solid gray;flex-grow: 1;}#sk-container-id-1 div.sk-label:hover label.sk-toggleable__label {background-color: #d4ebff;}#sk-container-id-1 div.sk-serial::before {content: \"\";position: absolute;border-left: 1px solid gray;box-sizing: border-box;top: 0;bottom: 0;left: 50%;z-index: 0;}#sk-container-id-1 div.sk-serial {display: flex;flex-direction: column;align-items: center;background-color: white;padding-right: 0.2em;padding-left: 0.2em;position: relative;}#sk-container-id-1 div.sk-item {position: relative;z-index: 1;}#sk-container-id-1 div.sk-parallel {display: flex;align-items: stretch;justify-content: center;background-color: white;position: relative;}#sk-container-id-1 div.sk-item::before, #sk-container-id-1 div.sk-parallel-item::before {content: \"\";position: absolute;border-left: 1px solid gray;box-sizing: border-box;top: 0;bottom: 0;left: 50%;z-index: -1;}#sk-container-id-1 div.sk-parallel-item {display: flex;flex-direction: column;z-index: 1;position: relative;background-color: white;}#sk-container-id-1 div.sk-parallel-item:first-child::after {align-self: flex-end;width: 50%;}#sk-container-id-1 div.sk-parallel-item:last-child::after {align-self: flex-start;width: 50%;}#sk-container-id-1 div.sk-parallel-item:only-child::after {width: 0;}#sk-container-id-1 div.sk-dashed-wrapped {border: 1px dashed gray;margin: 0 0.4em 0.5em 0.4em;box-sizing: border-box;padding-bottom: 0.4em;background-color: white;}#sk-container-id-1 div.sk-label label {font-family: monospace;font-weight: bold;display: inline-block;line-height: 1.2em;}#sk-container-id-1 div.sk-label-container {text-align: center;}#sk-container-id-1 div.sk-container {/* jupyter's `normalize.less` sets `[hidden] { display: none; }` but bootstrap.min.css set `[hidden] { display: none !important; }` so we also need the `!important` here to be able to override the default hidden behavior on the sphinx rendered scikit-learn.org. See: https://github.com/scikit-learn/scikit-learn/issues/21755 */display: inline-block !important;position: relative;}#sk-container-id-1 div.sk-text-repr-fallback {display: none;}</style><div id=\"sk-container-id-1\" class=\"sk-top-container\"><div class=\"sk-text-repr-fallback\"><pre>LinearRegression()</pre><b>In a Jupyter environment, please rerun this cell to show the HTML representation or trust the notebook. <br />On GitHub, the HTML representation is unable to render, please try loading this page with nbviewer.org.</b></div><div class=\"sk-container\" hidden><div class=\"sk-item\"><div class=\"sk-estimator sk-toggleable\"><input class=\"sk-toggleable__control sk-hidden--visually\" id=\"sk-estimator-id-1\" type=\"checkbox\" checked><label for=\"sk-estimator-id-1\" class=\"sk-toggleable__label sk-toggleable__label-arrow\">LinearRegression</label><div class=\"sk-toggleable__content\"><pre>LinearRegression()</pre></div></div></div></div></div>"
      ],
      "text/plain": [
       "LinearRegression()"
      ]
     },
     "execution_count": 28,
     "metadata": {},
     "output_type": "execute_result"
    }
   ],
   "source": [
    "# Create a linear regression model and use cross validation on the training dataset to asses model performance\n",
    "model = LinearRegression()\n",
    "cv_scores = cross_val_score(model, X_train, y_train, cv=5, scoring='neg_root_mean_squared_error')\n",
    "print(\"Cross-Validation RMSE:\", np.mean(-cv_scores))\n",
    "\n",
    "# Fit the model with the training data\n",
    "model.fit(X_train, y_train)\n",
    "\n"
   ]
  },
  {
   "cell_type": "code",
   "execution_count": 29,
   "id": "45015f59",
   "metadata": {},
   "outputs": [
    {
     "name": "stdout",
     "output_type": "stream",
     "text": [
      "Internal Test Set RMSE: 0.8642642657695563\n"
     ]
    }
   ],
   "source": [
    "# Evaluated the model usuing the internal test set\n",
    "y_pred_test = model.predict(X_test)\n",
    "print(\"Internal Test Set RMSE:\", mean_squared_error(y_test, y_pred_test, squared=False))"
   ]
  },
  {
   "cell_type": "markdown",
   "id": "005ab316",
   "metadata": {},
   "source": [
    "### Step 6: Model Evaluation"
   ]
  },
  {
   "cell_type": "code",
   "execution_count": 30,
   "id": "27f73b6f",
   "metadata": {},
   "outputs": [
    {
     "name": "stdout",
     "output_type": "stream",
     "text": [
      "Validation Set RMSE: 0.80747612873746\n"
     ]
    }
   ],
   "source": [
    "#We evaluate the model usuing the validation dataset which is 10% of the original dataset\n",
    "y_pred_val = model.predict(X_val)\n",
    "print(\"Validation Set RMSE:\", mean_squared_error(y_val, y_pred_val, squared=False))"
   ]
  },
  {
   "cell_type": "code",
   "execution_count": null,
   "id": "4d8f36cf",
   "metadata": {},
   "outputs": [],
   "source": []
  }
 ],
 "metadata": {
  "kernelspec": {
   "display_name": "Python 3 (ipykernel)",
   "language": "python",
   "name": "python3"
  },
  "language_info": {
   "codemirror_mode": {
    "name": "ipython",
    "version": 3
   },
   "file_extension": ".py",
   "mimetype": "text/x-python",
   "name": "python",
   "nbconvert_exporter": "python",
   "pygments_lexer": "ipython3",
   "version": "3.12.7"
  },
  "widgets": {
   "application/vnd.jupyter.widget-state+json": {
    "state": {},
    "version_major": 2,
    "version_minor": 0
   }
  }
 },
 "nbformat": 4,
 "nbformat_minor": 5
}
